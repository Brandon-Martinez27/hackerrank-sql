{
 "cells": [
  {
   "cell_type": "markdown",
   "metadata": {},
   "source": [
    "# Type of Triangle\n",
    "\n",
    "Write a query identifying the type of each record in the TRIANGLES table using its three side lengths. Output one of the following statements for each record in the table:\n",
    "\n",
    "- Equilateral: It's a triangle with 3 sides of equal length.\n",
    "- Isosceles: It's a triangle with 2 sides of equal length.\n",
    "- Scalene: It's a triangle with 3 sides of differing lengths.\n",
    "- Not A Triangle: The given values of A, B, and C don't form a triangle.\n",
    "\n",
    "Input Format\n",
    "\n",
    "The TRIANGLES table is described as follows:"
   ]
  },
  {
   "cell_type": "code",
   "execution_count": 1,
   "metadata": {},
   "outputs": [
    {
     "data": {
      "image/png": "[encoded data removed]",
      "text/plain": [
       "<IPython.core.display.Image object>"
      ]
     },
     "execution_count": 1,
     "metadata": {},
     "output_type": "execute_result"
    }
   ],
   "source": [
    "from IPython import display \n",
    "display.Image(\"https://s3.amazonaws.com/hr-challenge-images/12887/1443815629-ac2a843fb7-1.png\")"
   ]
  },
  {
   "cell_type": "markdown",
   "metadata": {},
   "source": [
    "Each row in the table denotes the lengths of each of a triangle's three sides.\n",
    "\n",
    "Sample Input"
   ]
  },
  {
   "cell_type": "code",
   "execution_count": 2,
   "metadata": {},
   "outputs": [
    {
     "data": {
      "image/png": "[encoded data removed]",
      "text/plain": [
       "<IPython.core.display.Image object>"
      ]
     },
     "execution_count": 2,
     "metadata": {},
     "output_type": "execute_result"
    }
   ],
   "source": [
    "from IPython import display \n",
    "display.Image(\"https://s3.amazonaws.com/hr-challenge-images/12887/1443815827-cbfc1ca12b-2.png\")"
   ]
  },
  {
   "cell_type": "markdown",
   "metadata": {},
   "source": [
    "Sample Output\n",
    "\n",
    "Isosceles\n",
    "Equilateral\n",
    "Scalene\n",
    "Not A Triangle\n",
    "\n",
    "Explanation\n",
    "\n",
    "Values in the tuple (20, 20, 23) form an Isosceles triangle, because A == B. \n",
    "\n",
    "Values in the tuple (20, 20, 20) form an Equilateral triangle, because A == B == C. \n",
    "Values in the tuple (13, 14, 30) form a Scalene triangle, because A != B != C. \n",
    "\n",
    "Values in the tuple (13, 14, 30) cannot form a triangle because the combined value of sides A and B is not larger than that of side C."
   ]
  },
  {
   "cell_type": "code",
   "execution_count": null,
   "metadata": {},
   "outputs": [],
   "source": [
    "print('''Query: \\n\n",
    "\n",
    "''')"
   ]
  },
  {
   "cell_type": "markdown",
   "metadata": {},
   "source": [
    "#### Result"
   ]
  },
  {
   "cell_type": "markdown",
   "metadata": {},
   "source": [
    "---"
   ]
  },
  {
   "cell_type": "code",
   "execution_count": null,
   "metadata": {},
   "outputs": [],
   "source": []
  }
 ],
 "metadata": {
  "kernelspec": {
   "display_name": "Python 3",
   "language": "python",
   "name": "python3"
  },
  "language_info": {
   "codemirror_mode": {
    "name": "ipython",
    "version": 3
   },
   "file_extension": ".py",
   "mimetype": "text/x-python",
   "name": "python",
   "nbconvert_exporter": "python",
   "pygments_lexer": "ipython3",
   "version": "3.7.6"
  }
 },
 "nbformat": 4,
 "nbformat_minor": 4
}
